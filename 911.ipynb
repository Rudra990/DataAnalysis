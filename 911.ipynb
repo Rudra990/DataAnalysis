{
 "cells": [
  {
   "cell_type": "code",
   "execution_count": 1,
   "id": "04b1b948-3850-4e3f-a6bf-c520525165bd",
   "metadata": {},
   "outputs": [
    {
     "name": "stdout",
     "output_type": "stream",
     "text": [
      "         lat        lng                                               desc  \\\n",
      "0  40.297876 -75.581294  REINDEER CT & DEAD END;  NEW HANOVER; Station ...   \n",
      "1  40.258061 -75.264680  BRIAR PATH & WHITEMARSH LN;  HATFIELD TOWNSHIP...   \n",
      "2  40.121182 -75.351975  HAWS AVE; NORRISTOWN; 2015-12-10 @ 14:39:21-St...   \n",
      "3  40.116153 -75.343513  AIRY ST & SWEDE ST;  NORRISTOWN; Station 308A;...   \n",
      "4  40.251492 -75.603350  CHERRYWOOD CT & DEAD END;  LOWER POTTSGROVE; S...   \n",
      "\n",
      "       zip                    title            timeStamp                twp  \\\n",
      "0  19525.0   EMS: BACK PAINS/INJURY  2015-12-10 17:10:52        NEW HANOVER   \n",
      "1  19446.0  EMS: DIABETIC EMERGENCY  2015-12-10 17:29:21  HATFIELD TOWNSHIP   \n",
      "2  19401.0      Fire: GAS-ODOR/LEAK  2015-12-10 14:39:21         NORRISTOWN   \n",
      "3  19401.0   EMS: CARDIAC EMERGENCY  2015-12-10 16:47:36         NORRISTOWN   \n",
      "4      NaN           EMS: DIZZINESS  2015-12-10 16:56:52   LOWER POTTSGROVE   \n",
      "\n",
      "                         addr  e  \n",
      "0      REINDEER CT & DEAD END  1  \n",
      "1  BRIAR PATH & WHITEMARSH LN  1  \n",
      "2                    HAWS AVE  1  \n",
      "3          AIRY ST & SWEDE ST  1  \n",
      "4    CHERRYWOOD CT & DEAD END  1  \n"
     ]
    }
   ],
   "source": [
    "import matplotlib.pyplot as plt\n",
    "import seaborn as sns\n",
    "import folium\n",
    "\n",
    "\n",
    "import pandas as pd\n",
    "\n",
    "df = pd.read_csv(r'C:\\Users\\rudra\\OneDrive\\Desktop\\911Project\\911.csv')\n",
    "print(df.head())"
   ]
  },
  {
   "cell_type": "code",
   "execution_count": 7,
   "id": "99181cc4-d3bf-4aa7-8c2a-08ee3fabf2bb",
   "metadata": {},
   "outputs": [],
   "source": [
    "def top_zipcodes():\n",
    "    a = df['zip'].value_counts().head(10)\n",
    "    print(\"Top 10 Zipcodes for 911 calls are \\n\",a)\n",
    "\n",
    "\n",
    "def zip_check():\n",
    "    b = set(['19446','19090']).issubset(set(df['zip']))\n",
    "    print(\"Are Zipcodes 19446 and 19090 present?\",b)\n",
    "    \n",
    "    "
   ]
  },
  {
   "cell_type": "code",
   "execution_count": 11,
   "id": "6e15e4e3-daf8-4e1c-b5a7-f3edaa163570",
   "metadata": {},
   "outputs": [],
   "source": [
    "##check for specific townships and top townships for 911 calls\n",
    "\n",
    "def top_townships():\n",
    "    c = df['twp'].value_counts().head(4)\n",
    "    print(\"Top 4 Townships for 911 calls: \\n\", c)\n",
    "    township_check = ['LOWER POTTSGROVE', 'NORRISTOWN', 'HORSHAM', 'ABINGTON']\n",
    "    present_townships = set(township_check).intersection(set(df['twp']))\n",
    "    print(\"Townships not present:\", set(township_check) - present_townships)"
   ]
  },
  {
   "cell_type": "code",
   "execution_count": 13,
   "id": "86082de3-993e-456d-9ca4-9ee4b7c32ae6",
   "metadata": {},
   "outputs": [
    {
     "name": "stdout",
     "output_type": "stream",
     "text": [
      "Top 4 Townships for 911 calls: \n",
      " twp\n",
      "LOWER MERION    55490\n",
      "ABINGTON        39947\n",
      "NORRISTOWN      37633\n",
      "UPPER MERION    36010\n",
      "Name: count, dtype: int64\n",
      "Townships not present: set()\n"
     ]
    }
   ],
   "source": [
    "top_townships()"
   ]
  },
  {
   "cell_type": "code",
   "execution_count": null,
   "id": "3de4774a-e4f9-4d47-a176-4e47ef6b92d1",
   "metadata": {},
   "outputs": [],
   "source": []
  }
 ],
 "metadata": {
  "kernelspec": {
   "display_name": "Python 3 (ipykernel)",
   "language": "python",
   "name": "python3"
  },
  "language_info": {
   "codemirror_mode": {
    "name": "ipython",
    "version": 3
   },
   "file_extension": ".py",
   "mimetype": "text/x-python",
   "name": "python",
   "nbconvert_exporter": "python",
   "pygments_lexer": "ipython3",
   "version": "3.12.4"
  }
 },
 "nbformat": 4,
 "nbformat_minor": 5
}
